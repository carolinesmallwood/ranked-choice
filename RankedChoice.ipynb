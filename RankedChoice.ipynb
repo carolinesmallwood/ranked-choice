{
 "cells": [
  {
   "cell_type": "markdown",
   "id": "cc5c6ecf-d6ce-453c-9fc3-156d654a6fca",
   "metadata": {},
   "source": [
    "# Ranked Choice Voting"
   ]
  },
  {
   "cell_type": "code",
   "execution_count": 7,
   "id": "272f3c42-83dc-4a71-ab37-1509f894e47a",
   "metadata": {},
   "outputs": [],
   "source": [
    "import numpy as np\n",
    "import random\n",
    "\n",
    "import pandas as pd\n",
    "pd.set_option('display.width',1000)"
   ]
  },
  {
   "cell_type": "markdown",
   "id": "4dac1894-dd94-4c7f-81c8-f8ff13a5fea0",
   "metadata": {},
   "source": [
    "## Generate Sample Data"
   ]
  },
  {
   "cell_type": "markdown",
   "id": "59811748-4ceb-45cf-ac45-ab5eb1652a55",
   "metadata": {},
   "source": [
    "This function generates random ranking of candidates (including randomizing number of candidates ranked)."
   ]
  },
  {
   "cell_type": "code",
   "execution_count": 3,
   "id": "379a276d-84fb-42f4-81c9-59c53cb87c8e",
   "metadata": {},
   "outputs": [],
   "source": [
    "# SET CONSTANTS\n",
    "\n",
    "# CANDIDATE POOL\n",
    "CANDIDATES = ['Zion', 'Yosemite', 'Mt Rainier', 'Yellowstone', 'Glacier', 'Rocky', 'Grand Canyon']\n",
    "# VOTING POPULATION SIZE\n",
    "N = 1000"
   ]
  },
  {
   "cell_type": "code",
   "execution_count": 38,
   "id": "27d594be-8ce1-4fbc-b341-9a8b4687566e",
   "metadata": {},
   "outputs": [],
   "source": [
    "def generate_ballots(n, candidates, verbose=False):\n",
    "    max_ranking = len(candidates)\n",
    "\n",
    "    ballots_dict = {}\n",
    "\n",
    "    for i in range(0, n):\n",
    "        # randomly decide how many of candidates to rank\n",
    "        ranked = np.random.randint(0, max_ranking+1)\n",
    "    \n",
    "        # choose that many candidates randomly\n",
    "        order = random.sample(candidates, ranked)\n",
    "\n",
    "        if verbose:\n",
    "            print(f'Voter {i}: {order}')\n",
    "\n",
    "        ballots_dict[i] = dict(zip(range(1, len(order)+1), order))\n",
    "\n",
    "    return pd.DataFrame.from_dict(ballots_dict, orient='index').melt(ignore_index=False, var_name='ranking', value_name='candidate').reset_index(names='voter_id')"
   ]
  },
  {
   "cell_type": "markdown",
   "id": "bbe8f35a-9c03-4c77-a11a-399b83b99087",
   "metadata": {},
   "source": [
    "### Verbose Example"
   ]
  },
  {
   "cell_type": "code",
   "execution_count": 46,
   "id": "42c57863-c80f-4a4d-b49d-61a0c0ae9dee",
   "metadata": {},
   "outputs": [
    {
     "name": "stdout",
     "output_type": "stream",
     "text": [
      "Voter 0: ['Zion', 'Rocky']\n",
      "Voter 1: ['Mt Rainier', 'Glacier', 'Yellowstone', 'Yosemite', 'Rocky']\n",
      "Voter 2: []\n",
      "Voter 3: ['Mt Rainier', 'Rocky', 'Zion', 'Glacier']\n",
      "Voter 4: ['Yosemite', 'Grand Canyon', 'Mt Rainier']\n",
      "Voter 5: ['Rocky', 'Glacier', 'Yosemite', 'Mt Rainier', 'Zion']\n",
      "Voter 6: ['Yellowstone']\n",
      "Voter 7: ['Yellowstone', 'Rocky', 'Glacier', 'Mt Rainier', 'Grand Canyon']\n",
      "Voter 8: ['Grand Canyon', 'Mt Rainier', 'Yosemite', 'Glacier', 'Zion', 'Yellowstone']\n",
      "Voter 9: ['Grand Canyon', 'Mt Rainier']\n"
     ]
    }
   ],
   "source": [
    "sample = generate_ballots(10, CANDIDATES, True)"
   ]
  },
  {
   "cell_type": "code",
   "execution_count": 41,
   "id": "9d58a546-4ad2-4149-a499-d785e1937c62",
   "metadata": {},
   "outputs": [],
   "source": [
    "np_ballots = generate_ballots(1000, CANDIDATES)"
   ]
  },
  {
   "cell_type": "markdown",
   "id": "5d6a213b-7cdf-4bc2-a84a-c1e959c72216",
   "metadata": {},
   "source": [
    "## Tabulate Ballots"
   ]
  },
  {
   "cell_type": "code",
   "execution_count": 23,
   "id": "a5d9550c-93b8-494c-b407-ddc6fa30f01c",
   "metadata": {},
   "outputs": [],
   "source": [
    "def tabulate_ballots(ballots, candidates, threshold, verbose=False):\n",
    "\n",
    "    # drop all empty ranks (candidate is null)\n",
    "    ballots = ballots.loc[ballots['candidate'].notnull()]\n",
    "    \n",
    "    # initialize vote share\n",
    "    candidate_vote_share = pd.Series(0, index=candidates)\n",
    "\n",
    "    # initialize remaining candidates list\n",
    "    cand_remain = set(candidates)\n",
    "\n",
    "    rnd = 1\n",
    "\n",
    "    while candidate_vote_share.max() < threshold:\n",
    "\n",
    "        # calculate vote share of current tier\n",
    "        candidate_vote_share = ballots.loc[ballots['ranking'] == 1, 'candidate'].value_counts(normalize=True)\n",
    "\n",
    "        if verbose:\n",
    "            print(f'\\nRound {rnd} Candidate Vote Share:')\n",
    "            print(candidate_vote_share)\n",
    "\n",
    "            print(pd.pivot_table(data=ballots, index='voter_id', values='candidate', columns='ranking', aggfunc='min'))\n",
    "\n",
    "        if candidate_vote_share.max() < threshold:\n",
    "            # if no candidates meet threshold of voter share\n",
    "            # eliminate candidate with lowest share, as well as candidates who got no vote share\n",
    "\n",
    "            # eliminate candidates who got 0 votes\n",
    "            cand_dq = cand_remain - set(candidate_vote_share.index)\n",
    "            dq = ballots.loc[ballots['candidate'].isin(cand_dq)].shape[0]\n",
    "            ballots = ballots.loc[~ballots['candidate'].isin(cand_dq)]\n",
    "\n",
    "            if verbose and len(cand_dq) > 0:\n",
    "                print(f'Candidates with 0 1st place votes:\\t {cand_dq}\\n Redistributed {dq} lower-place votes')\n",
    "\n",
    "            # get candidate with lowest share\n",
    "            cand_elim = candidate_vote_share.idxmin()\n",
    "            # store number of voters who ranked this candidate (in any slot)\n",
    "            elim = ballots.loc[ballots['candidate'] == cand_elim].shape[0]\n",
    "            ballots = ballots.loc[ballots['candidate'] != cand_elim]\n",
    "\n",
    "            new_col_name = 'ranking_' + str(rnd)\n",
    "            ballots[new_col_name] = ballots['ranking']\n",
    "\n",
    "            # re-rank candidates for each voter\n",
    "            ballots['ranking'] = ballots.groupby('voter_id')['ranking'].rank()\n",
    "\n",
    "            if verbose:\n",
    "                print(f'Last-place candidate:\\t {cand_elim} with {candidate_vote_share.min():.1%}\\n Redistributed {elim} votes')\n",
    "\n",
    "            rnd += 1\n",
    "            cand_remain = set(ballots['candidate'].unique())\n",
    "\n",
    "    return candidate_vote_share\n",
    "\n",
    "    "
   ]
  },
  {
   "cell_type": "markdown",
   "id": "34763afc-02a7-4d44-8eb4-eed47a98c105",
   "metadata": {},
   "source": [
    "### Concise Example (default)"
   ]
  },
  {
   "cell_type": "code",
   "execution_count": 27,
   "id": "3d094db6-cb61-46da-8c73-b776249c6b5b",
   "metadata": {},
   "outputs": [
    {
     "data": {
      "text/plain": [
       "candidate\n",
       "Rocky    0.666667\n",
       "Zion     0.333333\n",
       "Name: proportion, dtype: float64"
      ]
     },
     "execution_count": 27,
     "metadata": {},
     "output_type": "execute_result"
    }
   ],
   "source": [
    "tabulate_ballots(np_ballots, CANDIDATES, 0.6)"
   ]
  },
  {
   "cell_type": "markdown",
   "id": "806836bc-e87e-4989-bea4-bac1b9d5137c",
   "metadata": {},
   "source": [
    "### Verbose Example"
   ]
  },
  {
   "cell_type": "code",
   "execution_count": 29,
   "id": "ce65f011-4416-4cc6-abc9-c1c8a0ce0264",
   "metadata": {},
   "outputs": [
    {
     "name": "stdout",
     "output_type": "stream",
     "text": [
      "\n",
      "Round 1 Candidate Vote Share:\n",
      "candidate\n",
      "Zion            0.333333\n",
      "Rocky           0.333333\n",
      "Glacier         0.166667\n",
      "Grand Canyon    0.166667\n",
      "Name: proportion, dtype: float64\n",
      "ranking              1             2             3         4             5           6     7\n",
      "voter_id                                                                                    \n",
      "0                 Zion   Yellowstone    Mt Rainier     Rocky  Grand Canyon         NaN   NaN\n",
      "1              Glacier         Rocky          Zion  Yosemite           NaN         NaN   NaN\n",
      "5                 Zion    Mt Rainier  Grand Canyon       NaN           NaN         NaN   NaN\n",
      "7                Rocky  Grand Canyon   Yellowstone  Yosemite          Zion     Glacier   NaN\n",
      "8                Rocky      Yosemite   Yellowstone      Zion           NaN         NaN   NaN\n",
      "9         Grand Canyon      Yosemite       Glacier     Rocky   Yellowstone  Mt Rainier  Zion\n",
      "Candidates with 0 1st place votes:\t {'Yellowstone', 'Mt Rainier', 'Yosemite'}\n",
      " Redistributed 11 lower-place votes\n",
      "Last-place candidate:\t Glacier with 16.7%\n",
      " Redistributed 3 votes\n",
      "\n",
      "Round 2 Candidate Vote Share:\n",
      "candidate\n",
      "Rocky           0.500000\n",
      "Zion            0.333333\n",
      "Grand Canyon    0.166667\n",
      "Name: proportion, dtype: float64\n",
      "ranking            1.0           2.0           3.0\n",
      "voter_id                                          \n",
      "0                 Zion         Rocky  Grand Canyon\n",
      "1                Rocky          Zion           NaN\n",
      "5                 Zion  Grand Canyon           NaN\n",
      "7                Rocky  Grand Canyon          Zion\n",
      "8                Rocky          Zion           NaN\n",
      "9         Grand Canyon         Rocky          Zion\n",
      "Last-place candidate:\t Grand Canyon with 16.7%\n",
      " Redistributed 4 votes\n",
      "\n",
      "Round 3 Candidate Vote Share:\n",
      "candidate\n",
      "Rocky    0.666667\n",
      "Zion     0.333333\n",
      "Name: proportion, dtype: float64\n",
      "ranking     1.0    2.0\n",
      "voter_id              \n",
      "0          Zion  Rocky\n",
      "1         Rocky   Zion\n",
      "5          Zion    NaN\n",
      "7         Rocky   Zion\n",
      "8         Rocky   Zion\n",
      "9         Rocky   Zion\n"
     ]
    },
    {
     "data": {
      "text/plain": [
       "candidate\n",
       "Rocky    0.666667\n",
       "Zion     0.333333\n",
       "Name: proportion, dtype: float64"
      ]
     },
     "execution_count": 29,
     "metadata": {},
     "output_type": "execute_result"
    }
   ],
   "source": [
    "tabulate_ballots(np_ballots, CANDIDATES, 0.6, verbose=True)"
   ]
  },
  {
   "cell_type": "code",
   "execution_count": null,
   "id": "959ff290-e2ac-4780-8efb-14a507de1ef9",
   "metadata": {},
   "outputs": [],
   "source": []
  }
 ],
 "metadata": {
  "kernelspec": {
   "display_name": "Python 3 (ipykernel)",
   "language": "python",
   "name": "python3"
  },
  "language_info": {
   "codemirror_mode": {
    "name": "ipython",
    "version": 3
   },
   "file_extension": ".py",
   "mimetype": "text/x-python",
   "name": "python",
   "nbconvert_exporter": "python",
   "pygments_lexer": "ipython3",
   "version": "3.11.6"
  }
 },
 "nbformat": 4,
 "nbformat_minor": 5
}
